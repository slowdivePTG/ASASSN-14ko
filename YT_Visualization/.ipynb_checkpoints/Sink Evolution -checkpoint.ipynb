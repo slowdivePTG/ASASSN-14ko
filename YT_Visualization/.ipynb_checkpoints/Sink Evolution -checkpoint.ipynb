{
 "cells": [
  {
   "cell_type": "code",
   "execution_count": 1,
   "metadata": {
    "ExecuteTime": {
     "end_time": "2020-11-28T13:09:36.342551Z",
     "start_time": "2020-11-28T13:09:34.065324Z"
    }
   },
   "outputs": [],
   "source": [
    "import numpy as np\n",
    "import pandas as pd\n",
    "import matplotlib.pyplot as plt\n",
    "import yt.units as u"
   ]
  },
  {
   "cell_type": "code",
   "execution_count": 2,
   "metadata": {
    "ExecuteTime": {
     "end_time": "2020-11-28T13:09:36.353092Z",
     "start_time": "2020-11-28T13:09:36.345578Z"
    }
   },
   "outputs": [
    {
     "data": {
      "text/plain": [
       "\"df = pd.read_table('sinks_evol.dat', delim_whitespace=True)\\ndf = df[df[df['[01]time'] == '[01]time'].index[-1]+1:]\\ndf.to_csv('pruned_sinks_evol.dat', sep=' ', index=False, header=True)\""
      ]
     },
     "execution_count": 2,
     "metadata": {},
     "output_type": "execute_result"
    }
   ],
   "source": [
    "'''df = pd.read_table('sinks_evol.dat', delim_whitespace=True)\n",
    "df = df[df[df['[01]time'] == '[01]time'].index[-1]+1:]\n",
    "df.to_csv('pruned_sinks_evol.dat', sep=' ', index=False, header=True)'''"
   ]
  },
  {
   "cell_type": "code",
   "execution_count": 3,
   "metadata": {
    "ExecuteTime": {
     "end_time": "2020-11-28T13:09:36.532138Z",
     "start_time": "2020-11-28T13:09:36.358548Z"
    }
   },
   "outputs": [],
   "source": [
    "df = pd.read_table('../../TDE_plot/pruned_sinks_evol.dat', delim_whitespace=True)\n",
    "T = np.array(df['[01]time'], dtype='f4')"
   ]
  },
  {
   "cell_type": "code",
   "execution_count": 4,
   "metadata": {
    "ExecuteTime": {
     "end_time": "2020-11-28T13:09:36.572381Z",
     "start_time": "2020-11-28T13:09:36.534441Z"
    }
   },
   "outputs": [
    {
     "data": {
      "text/html": [
       "<div>\n",
       "<style scoped>\n",
       "    .dataframe tbody tr th:only-of-type {\n",
       "        vertical-align: middle;\n",
       "    }\n",
       "\n",
       "    .dataframe tbody tr th {\n",
       "        vertical-align: top;\n",
       "    }\n",
       "\n",
       "    .dataframe thead th {\n",
       "        text-align: right;\n",
       "    }\n",
       "</style>\n",
       "<table border=\"1\" class=\"dataframe\">\n",
       "  <thead>\n",
       "    <tr style=\"text-align: right;\">\n",
       "      <th></th>\n",
       "      <th>[00]part_tag</th>\n",
       "      <th>[01]time</th>\n",
       "      <th>[02]posx</th>\n",
       "      <th>[03]posy</th>\n",
       "      <th>[04]posz</th>\n",
       "      <th>[05]velx</th>\n",
       "      <th>[06]vely</th>\n",
       "      <th>[07]velz</th>\n",
       "      <th>[08]accelx</th>\n",
       "      <th>[09]accely</th>\n",
       "      <th>[10]accelz</th>\n",
       "      <th>[11]anglx</th>\n",
       "      <th>[12]angly</th>\n",
       "      <th>[13]anglz</th>\n",
       "      <th>[14]mass</th>\n",
       "      <th>[15]mdot</th>\n",
       "      <th>[16]ptime</th>\n",
       "    </tr>\n",
       "  </thead>\n",
       "  <tbody>\n",
       "    <tr>\n",
       "      <th>0</th>\n",
       "      <td>65536</td>\n",
       "      <td>1.000000e-10</td>\n",
       "      <td>2.476991e+13</td>\n",
       "      <td>2.480770e+13</td>\n",
       "      <td>1.240385e+12</td>\n",
       "      <td>-7.269970e-06</td>\n",
       "      <td>6.744938e-06</td>\n",
       "      <td>0.000000e+00</td>\n",
       "      <td>0.000655</td>\n",
       "      <td>0.000000</td>\n",
       "      <td>2.954451e-18</td>\n",
       "      <td>0.0</td>\n",
       "      <td>0.0</td>\n",
       "      <td>0.0</td>\n",
       "      <td>1.000000e+00</td>\n",
       "      <td>0.0</td>\n",
       "      <td>0.0</td>\n",
       "    </tr>\n",
       "    <tr>\n",
       "      <th>1</th>\n",
       "      <td>131072</td>\n",
       "      <td>1.000000e-10</td>\n",
       "      <td>1.896981e+14</td>\n",
       "      <td>-1.272589e+14</td>\n",
       "      <td>1.240385e+12</td>\n",
       "      <td>-3.585963e+09</td>\n",
       "      <td>8.535042e+09</td>\n",
       "      <td>0.000000e+00</td>\n",
       "      <td>-146254.001300</td>\n",
       "      <td>134848.645900</td>\n",
       "      <td>9.595295e-22</td>\n",
       "      <td>0.0</td>\n",
       "      <td>0.0</td>\n",
       "      <td>0.0</td>\n",
       "      <td>1.500000e+41</td>\n",
       "      <td>0.0</td>\n",
       "      <td>0.0</td>\n",
       "    </tr>\n",
       "    <tr>\n",
       "      <th>2</th>\n",
       "      <td>65536</td>\n",
       "      <td>3.000000e-10</td>\n",
       "      <td>2.476991e+13</td>\n",
       "      <td>2.480770e+13</td>\n",
       "      <td>1.240385e+12</td>\n",
       "      <td>-1.372748e-05</td>\n",
       "      <td>1.282039e-05</td>\n",
       "      <td>-4.441710e-22</td>\n",
       "      <td>0.000655</td>\n",
       "      <td>0.000000</td>\n",
       "      <td>-5.448116e-18</td>\n",
       "      <td>0.0</td>\n",
       "      <td>0.0</td>\n",
       "      <td>0.0</td>\n",
       "      <td>1.000000e+00</td>\n",
       "      <td>0.0</td>\n",
       "      <td>0.0</td>\n",
       "    </tr>\n",
       "    <tr>\n",
       "      <th>3</th>\n",
       "      <td>131072</td>\n",
       "      <td>3.000000e-10</td>\n",
       "      <td>1.896981e+14</td>\n",
       "      <td>-1.272589e+14</td>\n",
       "      <td>1.240385e+12</td>\n",
       "      <td>-3.585963e+09</td>\n",
       "      <td>8.535042e+09</td>\n",
       "      <td>-4.441710e-22</td>\n",
       "      <td>-146254.001300</td>\n",
       "      <td>134848.645900</td>\n",
       "      <td>-3.692534e-21</td>\n",
       "      <td>0.0</td>\n",
       "      <td>0.0</td>\n",
       "      <td>0.0</td>\n",
       "      <td>1.500000e+41</td>\n",
       "      <td>0.0</td>\n",
       "      <td>0.0</td>\n",
       "    </tr>\n",
       "    <tr>\n",
       "      <th>4</th>\n",
       "      <td>65536</td>\n",
       "      <td>7.000000e-10</td>\n",
       "      <td>2.476991e+13</td>\n",
       "      <td>2.480770e+13</td>\n",
       "      <td>1.240385e+12</td>\n",
       "      <td>-1.347965e-05</td>\n",
       "      <td>1.283492e-05</td>\n",
       "      <td>8.439249e-21</td>\n",
       "      <td>0.000655</td>\n",
       "      <td>0.000000</td>\n",
       "      <td>-5.393906e-18</td>\n",
       "      <td>0.0</td>\n",
       "      <td>0.0</td>\n",
       "      <td>0.0</td>\n",
       "      <td>1.000000e+00</td>\n",
       "      <td>0.0</td>\n",
       "      <td>0.0</td>\n",
       "    </tr>\n",
       "    <tr>\n",
       "      <th>...</th>\n",
       "      <td>...</td>\n",
       "      <td>...</td>\n",
       "      <td>...</td>\n",
       "      <td>...</td>\n",
       "      <td>...</td>\n",
       "      <td>...</td>\n",
       "      <td>...</td>\n",
       "      <td>...</td>\n",
       "      <td>...</td>\n",
       "      <td>...</td>\n",
       "      <td>...</td>\n",
       "      <td>...</td>\n",
       "      <td>...</td>\n",
       "      <td>...</td>\n",
       "      <td>...</td>\n",
       "      <td>...</td>\n",
       "      <td>...</td>\n",
       "    </tr>\n",
       "    <tr>\n",
       "      <th>30939</th>\n",
       "      <td>131072</td>\n",
       "      <td>3.371008e+04</td>\n",
       "      <td>-8.797592e+13</td>\n",
       "      <td>-2.618641e+13</td>\n",
       "      <td>1.240385e+12</td>\n",
       "      <td>-6.667211e+09</td>\n",
       "      <td>-1.063430e+10</td>\n",
       "      <td>6.905596e+02</td>\n",
       "      <td>595637.910900</td>\n",
       "      <td>269273.291100</td>\n",
       "      <td>-4.130865e-02</td>\n",
       "      <td>0.0</td>\n",
       "      <td>0.0</td>\n",
       "      <td>0.0</td>\n",
       "      <td>1.500000e+41</td>\n",
       "      <td>0.0</td>\n",
       "      <td>0.0</td>\n",
       "    </tr>\n",
       "    <tr>\n",
       "      <th>30940</th>\n",
       "      <td>65536</td>\n",
       "      <td>3.371145e+04</td>\n",
       "      <td>2.480131e+13</td>\n",
       "      <td>2.480792e+13</td>\n",
       "      <td>1.240378e+12</td>\n",
       "      <td>-1.659840e+07</td>\n",
       "      <td>-3.509324e+06</td>\n",
       "      <td>2.297148e+02</td>\n",
       "      <td>0.000095</td>\n",
       "      <td>0.000022</td>\n",
       "      <td>1.411668e-07</td>\n",
       "      <td>0.0</td>\n",
       "      <td>0.0</td>\n",
       "      <td>0.0</td>\n",
       "      <td>1.000000e+00</td>\n",
       "      <td>0.0</td>\n",
       "      <td>0.0</td>\n",
       "    </tr>\n",
       "    <tr>\n",
       "      <th>30941</th>\n",
       "      <td>131072</td>\n",
       "      <td>3.371145e+04</td>\n",
       "      <td>-8.798511e+13</td>\n",
       "      <td>-2.620106e+13</td>\n",
       "      <td>1.240385e+12</td>\n",
       "      <td>-6.666391e+09</td>\n",
       "      <td>-1.063392e+10</td>\n",
       "      <td>4.243601e+02</td>\n",
       "      <td>595478.437900</td>\n",
       "      <td>269256.632800</td>\n",
       "      <td>-3.557825e-02</td>\n",
       "      <td>0.0</td>\n",
       "      <td>0.0</td>\n",
       "      <td>0.0</td>\n",
       "      <td>1.500000e+41</td>\n",
       "      <td>0.0</td>\n",
       "      <td>0.0</td>\n",
       "    </tr>\n",
       "    <tr>\n",
       "      <th>30942</th>\n",
       "      <td>65536</td>\n",
       "      <td>3.371283e+04</td>\n",
       "      <td>2.480130e+13</td>\n",
       "      <td>2.480792e+13</td>\n",
       "      <td>1.240376e+12</td>\n",
       "      <td>-1.659789e+07</td>\n",
       "      <td>-3.509583e+06</td>\n",
       "      <td>3.272309e+02</td>\n",
       "      <td>0.000095</td>\n",
       "      <td>0.000022</td>\n",
       "      <td>1.223969e-07</td>\n",
       "      <td>0.0</td>\n",
       "      <td>0.0</td>\n",
       "      <td>0.0</td>\n",
       "      <td>1.000000e+00</td>\n",
       "      <td>0.0</td>\n",
       "      <td>0.0</td>\n",
       "    </tr>\n",
       "    <tr>\n",
       "      <th>30943</th>\n",
       "      <td>131072</td>\n",
       "      <td>3.371283e+04</td>\n",
       "      <td>-8.799429e+13</td>\n",
       "      <td>-2.621571e+13</td>\n",
       "      <td>1.240385e+12</td>\n",
       "      <td>-6.665570e+09</td>\n",
       "      <td>-1.063355e+10</td>\n",
       "      <td>6.191729e+02</td>\n",
       "      <td>595319.050200</td>\n",
       "      <td>269239.994600</td>\n",
       "      <td>-4.465953e-02</td>\n",
       "      <td>0.0</td>\n",
       "      <td>0.0</td>\n",
       "      <td>0.0</td>\n",
       "      <td>1.500000e+41</td>\n",
       "      <td>0.0</td>\n",
       "      <td>0.0</td>\n",
       "    </tr>\n",
       "  </tbody>\n",
       "</table>\n",
       "<p>30944 rows × 17 columns</p>\n",
       "</div>"
      ],
      "text/plain": [
       "       [00]part_tag      [01]time      [02]posx      [03]posy      [04]posz  \\\n",
       "0             65536  1.000000e-10  2.476991e+13  2.480770e+13  1.240385e+12   \n",
       "1            131072  1.000000e-10  1.896981e+14 -1.272589e+14  1.240385e+12   \n",
       "2             65536  3.000000e-10  2.476991e+13  2.480770e+13  1.240385e+12   \n",
       "3            131072  3.000000e-10  1.896981e+14 -1.272589e+14  1.240385e+12   \n",
       "4             65536  7.000000e-10  2.476991e+13  2.480770e+13  1.240385e+12   \n",
       "...             ...           ...           ...           ...           ...   \n",
       "30939        131072  3.371008e+04 -8.797592e+13 -2.618641e+13  1.240385e+12   \n",
       "30940         65536  3.371145e+04  2.480131e+13  2.480792e+13  1.240378e+12   \n",
       "30941        131072  3.371145e+04 -8.798511e+13 -2.620106e+13  1.240385e+12   \n",
       "30942         65536  3.371283e+04  2.480130e+13  2.480792e+13  1.240376e+12   \n",
       "30943        131072  3.371283e+04 -8.799429e+13 -2.621571e+13  1.240385e+12   \n",
       "\n",
       "           [05]velx      [06]vely      [07]velz     [08]accelx     [09]accely  \\\n",
       "0     -7.269970e-06  6.744938e-06  0.000000e+00       0.000655       0.000000   \n",
       "1     -3.585963e+09  8.535042e+09  0.000000e+00 -146254.001300  134848.645900   \n",
       "2     -1.372748e-05  1.282039e-05 -4.441710e-22       0.000655       0.000000   \n",
       "3     -3.585963e+09  8.535042e+09 -4.441710e-22 -146254.001300  134848.645900   \n",
       "4     -1.347965e-05  1.283492e-05  8.439249e-21       0.000655       0.000000   \n",
       "...             ...           ...           ...            ...            ...   \n",
       "30939 -6.667211e+09 -1.063430e+10  6.905596e+02  595637.910900  269273.291100   \n",
       "30940 -1.659840e+07 -3.509324e+06  2.297148e+02       0.000095       0.000022   \n",
       "30941 -6.666391e+09 -1.063392e+10  4.243601e+02  595478.437900  269256.632800   \n",
       "30942 -1.659789e+07 -3.509583e+06  3.272309e+02       0.000095       0.000022   \n",
       "30943 -6.665570e+09 -1.063355e+10  6.191729e+02  595319.050200  269239.994600   \n",
       "\n",
       "         [10]accelz  [11]anglx  [12]angly  [13]anglz      [14]mass  [15]mdot  \\\n",
       "0      2.954451e-18        0.0        0.0        0.0  1.000000e+00       0.0   \n",
       "1      9.595295e-22        0.0        0.0        0.0  1.500000e+41       0.0   \n",
       "2     -5.448116e-18        0.0        0.0        0.0  1.000000e+00       0.0   \n",
       "3     -3.692534e-21        0.0        0.0        0.0  1.500000e+41       0.0   \n",
       "4     -5.393906e-18        0.0        0.0        0.0  1.000000e+00       0.0   \n",
       "...             ...        ...        ...        ...           ...       ...   \n",
       "30939 -4.130865e-02        0.0        0.0        0.0  1.500000e+41       0.0   \n",
       "30940  1.411668e-07        0.0        0.0        0.0  1.000000e+00       0.0   \n",
       "30941 -3.557825e-02        0.0        0.0        0.0  1.500000e+41       0.0   \n",
       "30942  1.223969e-07        0.0        0.0        0.0  1.000000e+00       0.0   \n",
       "30943 -4.465953e-02        0.0        0.0        0.0  1.500000e+41       0.0   \n",
       "\n",
       "       [16]ptime  \n",
       "0            0.0  \n",
       "1            0.0  \n",
       "2            0.0  \n",
       "3            0.0  \n",
       "4            0.0  \n",
       "...          ...  \n",
       "30939        0.0  \n",
       "30940        0.0  \n",
       "30941        0.0  \n",
       "30942        0.0  \n",
       "30943        0.0  \n",
       "\n",
       "[30944 rows x 17 columns]"
      ]
     },
     "execution_count": 4,
     "metadata": {},
     "output_type": "execute_result"
    }
   ],
   "source": [
    "df"
   ]
  },
  {
   "cell_type": "code",
   "execution_count": 5,
   "metadata": {
    "ExecuteTime": {
     "end_time": "2020-11-28T13:09:36.846848Z",
     "start_time": "2020-11-28T13:09:36.575808Z"
    }
   },
   "outputs": [
    {
     "data": {
      "text/plain": [
       "[<matplotlib.lines.Line2D at 0x7ff3dbf97c40>]"
      ]
     },
     "execution_count": 5,
     "metadata": {},
     "output_type": "execute_result"
    },
    {
     "data": {
      "image/png": "[encoded data removed]",
      "text/plain": [
       "<Figure size 432x288 with 1 Axes>"
      ]
     },
     "metadata": {
      "needs_background": "light"
     },
     "output_type": "display_data"
    }
   ],
   "source": [
    "plt.plot(range(len(T)), T)"
   ]
  },
  {
   "cell_type": "code",
   "execution_count": 6,
   "metadata": {
    "ExecuteTime": {
     "end_time": "2020-11-28T13:09:37.220676Z",
     "start_time": "2020-11-28T13:09:36.849923Z"
    }
   },
   "outputs": [
    {
     "data": {
      "text/plain": [
       "(-6.666502857208252, 13.602282428741455, -9.139496541023254, 4.781365609169006)"
      ]
     },
     "execution_count": 6,
     "metadata": {},
     "output_type": "execute_result"
    },
    {
     "data": {
      "image/png": "[encoded data removed]",
      "text/plain": [
       "<Figure size 864x576 with 1 Axes>"
      ]
     },
     "metadata": {
      "needs_background": "light"
     },
     "output_type": "display_data"
    }
   ],
   "source": [
    "plt.figure(figsize=(12, 8))\n",
    "plt.scatter(np.array(df['[02]posx'][0::5000], dtype='f4')/(u.AU/u.cm),\n",
    "            np.array(df['[03]posy'][0::5000], dtype='f4')/(u.AU/u.cm))\n",
    "plt.scatter(np.array(df['[02]posx'][1::500], dtype='f4')/(u.AU/u.cm),\n",
    "            np.array(df['[03]posy'][1::500], dtype='f4')/(u.AU/u.cm),\n",
    "            s=100**(np.log10(np.array(df['[01]time'][1::500], dtype='f4')) - 3.5))\n",
    "plt.axis('equal')"
   ]
  },
  {
   "cell_type": "code",
   "execution_count": null,
   "metadata": {},
   "outputs": [],
   "source": []
  }
 ],
 "metadata": {
  "kernelspec": {
   "display_name": "Python 3",
   "language": "python",
   "name": "python3"
  },
  "language_info": {
   "codemirror_mode": {
    "name": "ipython",
    "version": 3
   },
   "file_extension": ".py",
   "mimetype": "text/x-python",
   "name": "python",
   "nbconvert_exporter": "python",
   "pygments_lexer": "ipython3",
   "version": "3.8.3"
  }
 },
 "nbformat": 4,
 "nbformat_minor": 4
}
