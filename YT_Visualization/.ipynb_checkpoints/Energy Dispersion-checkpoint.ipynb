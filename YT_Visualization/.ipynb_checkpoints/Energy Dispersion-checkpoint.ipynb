{
 "cells": [
  {
   "cell_type": "code",
   "execution_count": 1,
   "metadata": {
    "ExecuteTime": {
     "end_time": "2021-01-17T14:51:55.235853Z",
     "start_time": "2021-01-17T14:51:55.212356Z"
    }
   },
   "outputs": [],
   "source": [
    "%load_ext autoreload\n",
    "%autoreload 2"
   ]
  },
  {
   "cell_type": "code",
   "execution_count": 2,
   "metadata": {
    "ExecuteTime": {
     "end_time": "2021-01-17T14:51:59.713888Z",
     "start_time": "2021-01-17T14:51:55.856575Z"
    },
    "execution": {
     "iopub.execute_input": "2020-11-23T05:03:39.979826Z",
     "iopub.status.busy": "2020-11-23T05:03:39.979579Z",
     "iopub.status.idle": "2020-11-23T05:03:42.193366Z",
     "shell.execute_reply": "2020-11-23T05:03:42.192638Z",
     "shell.execute_reply.started": "2020-11-23T05:03:39.979800Z"
    }
   },
   "outputs": [],
   "source": [
    "import yt\n",
    "import yt.units as u\n",
    "import sys\n",
    "import numpy as np\n",
    "import matplotlib.pyplot as plt"
   ]
  },
  {
   "cell_type": "code",
   "execution_count": 3,
   "metadata": {
    "ExecuteTime": {
     "end_time": "2021-01-17T14:52:01.221517Z",
     "start_time": "2021-01-17T14:51:59.716556Z"
    }
   },
   "outputs": [],
   "source": [
    "from astropy.convolution import Gaussian2DKernel\n",
    "from astropy.convolution import convolve"
   ]
  },
  {
   "cell_type": "markdown",
   "metadata": {},
   "source": [
    "## Load the FLASH file"
   ]
  },
  {
   "cell_type": "code",
   "execution_count": 4,
   "metadata": {
    "ExecuteTime": {
     "end_time": "2021-01-17T14:52:02.905553Z",
     "start_time": "2021-01-17T14:52:02.590941Z"
    },
    "execution": {
     "iopub.execute_input": "2020-11-23T05:03:43.375649Z",
     "iopub.status.busy": "2020-11-23T05:03:43.375270Z",
     "iopub.status.idle": "2020-11-23T05:03:43.522883Z",
     "shell.execute_reply": "2020-11-23T05:03:43.521094Z",
     "shell.execute_reply.started": "2020-11-23T05:03:43.375603Z"
    }
   },
   "outputs": [
    {
     "name": "stderr",
     "output_type": "stream",
     "text": [
      "yt : [INFO     ] 2021-01-17 22:52:02,863 Parameters: current_time              = 189076.38\n",
      "yt : [INFO     ] 2021-01-17 22:52:02,864 Parameters: domain_dimensions         = [8 8 8]\n",
      "yt : [INFO     ] 2021-01-17 22:52:02,871 Parameters: domain_left_edge          = [0. 0. 0.]\n",
      "yt : [INFO     ] 2021-01-17 22:52:02,873 Parameters: domain_right_edge         = [7.240177e+13 7.240177e+13 3.620088e+13]\n",
      "yt : [INFO     ] 2021-01-17 22:52:02,875 Parameters: cosmological_simulation   = 0.0\n"
     ]
    },
    {
     "data": {
      "text/plain": [
       "multitidal_hdf5_plt_cnt_0100"
      ]
     },
     "execution_count": 4,
     "metadata": {},
     "output_type": "execute_result"
    }
   ],
   "source": [
    "ds = yt.load(\"../../TDE_plot/multitidal_hdf5_plt_cnt_0100\")\n",
    "ds"
   ]
  },
  {
   "cell_type": "code",
   "execution_count": 5,
   "metadata": {
    "ExecuteTime": {
     "end_time": "2021-01-17T14:53:03.739634Z",
     "start_time": "2021-01-17T14:53:01.620130Z"
    }
   },
   "outputs": [],
   "source": [
    "edata = np.loadtxt('../../TDE_plot/m0.8_p17_b0.6_P110/extras.dat',\n",
    "                   dtype='float64')\n",
    "G = u.gravitational_constant\n",
    "gmpt = G * edata[6] * u.g\n",
    "\n",
    "odata = np.loadtxt('../../TDE_plot/m0.8_p17_b0.6_P110/pruned_sinks_evol.dat',\n",
    "                   dtype='float64')\n",
    "\n",
    "if odata[0, 14] > odata[1, 14]:\n",
    "    part_tag_pt = odata[0, 0]\n",
    "else:\n",
    "    part_tag_pt = odata[1, 0]\n",
    "odata_pt = odata[np.where(odata[:, 0] == part_tag_pt)[0]]\n",
    "odata_ob = odata[np.where(odata[:, 0] != part_tag_pt)[0]]\n",
    "\n",
    "ptvec = odata_pt[:, 2:8]\n",
    "obvec = odata_ob[:, 2:8]\n",
    "boundvec = obvec\n",
    "time = odata_pt[:, 1]\n",
    "tindex = abs(time - ds.current_time.v).argmin()\n",
    "\n",
    "\n",
    "def _bhbound(field, data):\n",
    "    pos = np.zeros(data['x'].shape, dtype='float64')\n",
    "    vel2 = pos.copy()\n",
    "    for i, ax in enumerate(['x', 'y', 'z']):\n",
    "        pos += (data[ax] - ptvec[tindex, i] * u.cm)**2.\n",
    "    for i, ax in enumerate(['velx', 'vely', 'velz']):\n",
    "        vel2 += (data[ax] - ptvec[tindex, i + 3] * u.cm / u.s)**2.\n",
    "    pot = -gmpt / np.sqrt(pos) + 0.5 * vel2\n",
    "    return (pot)\n",
    "\n",
    "def _tfallback(field, data):\n",
    "    pot = data['bhbound']\n",
    "    return (gmpt * np.pi / np.sqrt(2) / (-pot)**(3/2))\n",
    "\n",
    "\n",
    "'''def _selfbound(field, data):\n",
    "    vel2 = np.zeros(data['x'].shape, dtype='float64')\n",
    "    V = [data[\"velx\"], data[\"vely\"], data[\"velz\"]]\n",
    "    for i, ax in enumerate(['velx', 'vely', 'velz']):\n",
    "        vel2 += (data[ax] - boundvec[tindex, i + 3] * u.cm / u.s)**2.\n",
    "\n",
    "    pot = 0.5 * data['gpot'] + 0.5 * vel2\n",
    "    return (pot)'''\n",
    "\n",
    "\n",
    "yt.add_field((\"gas\", \"bhbound\"),\n",
    "             function=_bhbound,\n",
    "             units=\"erg/g\",\n",
    "             take_log=False,\n",
    "             force_override=True,\n",
    "             sampling_type=\"cell\")\n",
    "\n",
    "'''yt.add_field((\"gas\", \"selfbound\"),\n",
    "             function=_selfbound,\n",
    "             units=\"erg/g\",\n",
    "             take_log=False,\n",
    "             force_override=True,\n",
    "             sampling_type=\"cell\")'''\n",
    "\n",
    "yt.add_field((\"gas\", \"tfallback\"),\n",
    "             function=_tfallback,\n",
    "             units=\"day\",\n",
    "             take_log=False,\n",
    "             force_override=True,\n",
    "             sampling_type=\"cell\")"
   ]
  },
  {
   "cell_type": "code",
   "execution_count": 6,
   "metadata": {
    "ExecuteTime": {
     "end_time": "2021-01-17T14:53:08.450062Z",
     "start_time": "2021-01-17T14:53:08.244286Z"
    }
   },
   "outputs": [
    {
     "name": "stderr",
     "output_type": "stream",
     "text": [
      "yt : [INFO     ] 2021-01-17 22:53:08,427 Parameters: current_time              = 189076.38\n",
      "yt : [INFO     ] 2021-01-17 22:53:08,430 Parameters: domain_dimensions         = [8 8 8]\n",
      "yt : [INFO     ] 2021-01-17 22:53:08,432 Parameters: domain_left_edge          = [0. 0. 0.]\n",
      "yt : [INFO     ] 2021-01-17 22:53:08,436 Parameters: domain_right_edge         = [7.240177e+13 7.240177e+13 3.620088e+13]\n",
      "yt : [INFO     ] 2021-01-17 22:53:08,442 Parameters: cosmological_simulation   = 0.0\n"
     ]
    }
   ],
   "source": [
    "ds = yt.load(\"../../TDE_plot/multitidal_hdf5_plt_cnt_0100\")"
   ]
  },
  {
   "cell_type": "code",
   "execution_count": 7,
   "metadata": {
    "ExecuteTime": {
     "end_time": "2021-01-17T14:53:12.137262Z",
     "start_time": "2021-01-17T14:53:12.076535Z"
    }
   },
   "outputs": [],
   "source": [
    "# Rotate image/mask\n",
    "\n",
    "\n",
    "def rotate_image(image, angle, method='spline', order=5, reshape=False, cval=0.0):\n",
    "    '''Rotate the image of Stack object.\n",
    "    Parameters:\n",
    "        angle (float): rotation angle in radian, counterclockwise.\n",
    "        method (str): interpolation method. Use 'lanczos', 'spline', 'cubic', \n",
    "            'bicubic', 'nearest' or 'bilinear'.\n",
    "        order (int): the order of spline interpolation (within 0-5) or Lanczos interpolation (>0).\n",
    "        reshape (bool): if True, the output shape is adapted so that the rorated image \n",
    "            is contained completely in the output array.\n",
    "        cval (scalar): value to fill the edges. Default is NaN.\n",
    "    Returns:\n",
    "        rotate_image: ndarray.\n",
    "    '''\n",
    "    if method == 'lanczos':\n",
    "        try:\n",
    "            from galsim import degrees, Angle\n",
    "            from galsim.interpolant import Lanczos\n",
    "            from galsim import Image, InterpolatedImage\n",
    "            from galsim.fitswcs import AstropyWCS\n",
    "        except:\n",
    "            raise ImportError(\n",
    "                '# Import `galsim` failed! Please check if `galsim` is installed!')\n",
    "        # Begin rotation\n",
    "        assert (order > 0) and isinstance(order, int), 'order of ' + \\\n",
    "            method + ' must be positive interger.'\n",
    "        pixel_scale = 1\n",
    "        galimg = InterpolatedImage(Image(image, dtype=float),\n",
    "                                   scale=pixel_scale, x_interpolant=Lanczos(order))\n",
    "        galimg = galimg.rotate(Angle(angle, unit=degrees))\n",
    "        ny, nx = image.shape\n",
    "        result = galimg.drawImage(scale=pixel_scale, nx=nx, ny=ny)\n",
    "        return result.array\n",
    "    elif method == 'spline':\n",
    "        from scipy.ndimage.interpolation import rotate as rt\n",
    "        assert 0 < order <= 5 and isinstance(\n",
    "            order, int), 'order of ' + method + ' must be within 0-5.'\n",
    "        result = rt(image, -angle, order=order, mode='constant',\n",
    "                    cval=cval, reshape=reshape)\n",
    "        return result\n",
    "    elif method in ['bicubic', 'nearest', 'cubic', 'bilinear']:\n",
    "        '''raise Warning(\n",
    "            \"Cautious! Don't use ['bicubic', 'nearest', 'cubic', 'bilinear'] methods! They don't conserve the total flux!\")'''\n",
    "        try:\n",
    "            from scipy.misc import imrotate\n",
    "        except:\n",
    "            raise ImportError(\n",
    "                '# Import `scipy.misc.imrotate` failed! This function may no longer be included in scipy!')\n",
    "        result = imrotate(image, angle, interp=method)\n",
    "        return result\n",
    "    else:\n",
    "        raise ValueError(\"# Not supported interpolation method. Use 'lanczos', 'spline', 'cubic', \\\n",
    "                            'bicubic', 'nearest', 'bilinear'.\")\n",
    "\n"
   ]
  },
  {
   "cell_type": "code",
   "execution_count": 8,
   "metadata": {
    "ExecuteTime": {
     "end_time": "2021-01-17T14:53:20.040443Z",
     "start_time": "2021-01-17T14:53:14.200537Z"
    }
   },
   "outputs": [],
   "source": [
    "da = ds.all_data()\n",
    "angle = -40"
   ]
  },
  {
   "cell_type": "code",
   "execution_count": 35,
   "metadata": {
    "ExecuteTime": {
     "end_time": "2021-01-17T15:22:58.178252Z",
     "start_time": "2021-01-17T15:22:47.021730Z"
    }
   },
   "outputs": [
    {
     "name": "stderr",
     "output_type": "stream",
     "text": [
      "yt : [INFO     ] 2021-01-17 23:22:49,317 Projection completed\n",
      "yt : [INFO     ] 2021-01-17 23:22:49,318 xlim = 0.000000 72401770000000.000000\n",
      "yt : [INFO     ] 2021-01-17 23:22:49,320 ylim = 0.000000 72401770000000.000000\n",
      "yt : [INFO     ] 2021-01-17 23:22:49,323 xlim = 0.000000 72401770000000.000000\n",
      "yt : [INFO     ] 2021-01-17 23:22:49,325 ylim = 0.000000 72401770000000.000000\n",
      "yt : [INFO     ] 2021-01-17 23:22:49,328 Making a fixed resolution buffer of (('flash', 'dens')) 800 by 800\n",
      "yt : [INFO     ] 2021-01-17 23:22:49,632 Making a fixed resolution buffer of (dens) 5000 by 5000\n"
     ]
    }
   ],
   "source": [
    "N = 5000\n",
    "width = 300\n",
    "da = ds.all_data()\n",
    "proj_tot = yt.ProjectionPlot(ds, \n",
    "                             'z', \n",
    "                             'dens', \n",
    "                             method='sum',\n",
    "                             data_source=da).data_source.to_frb((width, 'Rsun'), N)\n",
    "proj_lgdens_tot = np.log10(np.array(proj_tot['dens']))\n",
    "kernel = Gaussian2DKernel(x_stddev=2)\n",
    "proj_dens_tot_blur = 10**convolve(proj_lgdens_tot, kernel)"
   ]
  },
  {
   "cell_type": "code",
   "execution_count": 51,
   "metadata": {
    "ExecuteTime": {
     "end_time": "2021-01-17T15:41:31.848467Z",
     "start_time": "2021-01-17T15:40:20.096578Z"
    }
   },
   "outputs": [
    {
     "name": "stdout",
     "output_type": "stream",
     "text": [
      "5.205972300410691e-06 1.612019680797484e+33 g 0.9960011540325304 dimensionless\n"
     ]
    }
   ],
   "source": [
    "bins = np.logspace(np.log10(da['dens'].max()) - 1, np.log10(da['dens'].min()) + 4, 1000)\n",
    "Mtot = da['cell_mass'].sum()\n",
    "for b in bins:\n",
    "    cut = da.include_above('dens', b)\n",
    "    M = cut['cell_mass'].sum()\n",
    "    if M >= 0.996 * Mtot:\n",
    "        region = da.include_above('dens', b)\n",
    "        print(b, M, M/Mtot)\n",
    "        break"
   ]
  },
  {
   "cell_type": "code",
   "execution_count": 52,
   "metadata": {
    "ExecuteTime": {
     "end_time": "2021-01-17T15:41:45.142778Z",
     "start_time": "2021-01-17T15:41:31.872887Z"
    }
   },
   "outputs": [
    {
     "name": "stderr",
     "output_type": "stream",
     "text": [
      "yt : [INFO     ] 2021-01-17 23:41:43,636 Projection completed\n",
      "yt : [INFO     ] 2021-01-17 23:41:43,640 xlim = 0.000000 72401770000000.000000\n",
      "yt : [INFO     ] 2021-01-17 23:41:43,642 ylim = 0.000000 72401770000000.000000\n",
      "yt : [INFO     ] 2021-01-17 23:41:43,645 xlim = 0.000000 72401770000000.000000\n",
      "yt : [INFO     ] 2021-01-17 23:41:43,654 ylim = 0.000000 72401770000000.000000\n",
      "yt : [INFO     ] 2021-01-17 23:41:43,766 Making a fixed resolution buffer of (('gas', 'bhbound')) 800 by 800\n",
      "yt : [INFO     ] 2021-01-17 23:41:44,055 Making a fixed resolution buffer of (bhbound) 5000 by 5000\n"
     ]
    }
   ],
   "source": [
    "proj_tot = yt.ProjectionPlot(ds, \n",
    "                             'z', \n",
    "                             'bhbound', \n",
    "                             data_source=da, \n",
    "                             weight_field='dens').data_source.to_frb((width, 'Rsun'), N)\n",
    "proj_bhbound_tot = np.array(proj_tot['bhbound'])\n",
    "\n",
    "proj_bhbound_blur = proj_bhbound_tot.copy()\n",
    "proj_bhbound_blur[proj_dens_tot_blur < b] = -1e25"
   ]
  },
  {
   "cell_type": "code",
   "execution_count": 53,
   "metadata": {
    "ExecuteTime": {
     "end_time": "2021-01-17T15:42:23.166082Z",
     "start_time": "2021-01-17T15:41:45.146513Z"
    }
   },
   "outputs": [
    {
     "data": {
      "image/png": "[encoded data removed]",
      "text/plain": [
       "<Figure size 792x720 with 2 Axes>"
      ]
     },
     "metadata": {
      "needs_background": "light"
     },
     "output_type": "display_data"
    }
   ],
   "source": [
    "Max = proj_bhbound_blur[proj_bhbound_blur > -1e25].max()\n",
    "Min = proj_bhbound_blur[proj_bhbound_blur > -1e25].min()\n",
    "\n",
    "proj_bhbound_rot_blur = rotate_image(proj_bhbound_blur, angle, method='spline', order=5)\n",
    "proj_bhbound_tot_rot = rotate_image(proj_bhbound_tot, angle, method='spline', order=5)\n",
    "proj_bhbound_tot_rot[proj_bhbound_rot_blur > Max] = np.nan\n",
    "proj_bhbound_tot_rot[proj_bhbound_rot_blur < Min] = np.nan\n",
    "plt.figure(figsize=(11, 10))\n",
    "for i in range(N):\n",
    "    for j in range(N):\n",
    "        if (i-N/2)**2+(j-N/2)**2 >= N**2//4:\n",
    "            proj_bhbound_tot_rot[i][j] = np.nan\n",
    "\n",
    "plt.imshow(proj_bhbound_tot_rot, origin='lower', cmap='jet', extent=[-width//2, width//2, -width//2, width//2])\n",
    "plt.axvline(color='k', linewidth=1, linestyle=':')\n",
    "plt.xlabel(r'$R_\\odot$', fontsize=20)\n",
    "plt.colorbar()\n",
    "#plt.clim([-1, 1])\n",
    "#plt.xlim([4800, 5200])\n",
    "#plt.ylim([4800, 5200])\n",
    "plt.show()"
   ]
  },
  {
   "cell_type": "code",
   "execution_count": 55,
   "metadata": {
    "ExecuteTime": {
     "end_time": "2021-01-17T15:47:03.366579Z",
     "start_time": "2021-01-17T15:47:03.309941Z"
    }
   },
   "outputs": [],
   "source": [
    "raw, raw50, raw114 = np.load('m1.0_p10_b0.8.npz'), np.load(\n",
    "    'm1.0_p10_b0.8_P50.npz'), np.load('m1.0_p10_b0.8_P110.npz')"
   ]
  },
  {
   "cell_type": "code",
   "execution_count": 60,
   "metadata": {
    "ExecuteTime": {
     "end_time": "2021-01-17T15:50:09.793696Z",
     "start_time": "2021-01-17T15:50:09.456989Z"
    }
   },
   "outputs": [
    {
     "data": {
      "text/plain": [
       "<matplotlib.legend.Legend at 0x7f8447ef3ee0>"
      ]
     },
     "execution_count": 60,
     "metadata": {},
     "output_type": "execute_result"
    },
    {
     "data": {
      "image/png": "[encoded data removed]",
      "text/plain": [
       "<Figure size 432x288 with 1 Axes>"
      ]
     },
     "metadata": {
      "needs_background": "light"
     },
     "output_type": "display_data"
    }
   ],
   "source": [
    "plt.plot(raw['x'], raw['y'], label='Parabolic')\n",
    "plt.plot(raw50['x'], raw50['y'], label='50')\n",
    "plt.plot(raw114['x'], raw114['y'], label='114')\n",
    "plt.legend()"
   ]
  },
  {
   "cell_type": "code",
   "execution_count": 61,
   "metadata": {
    "ExecuteTime": {
     "end_time": "2021-01-17T15:53:36.325577Z",
     "start_time": "2021-01-17T15:53:36.055252Z"
    }
   },
   "outputs": [
    {
     "data": {
      "text/plain": [
       "<matplotlib.legend.Legend at 0x7f8448091ee0>"
      ]
     },
     "execution_count": 61,
     "metadata": {},
     "output_type": "execute_result"
    },
    {
     "data": {
      "image/png": "[encoded data removed]",
      "text/plain": [
       "<Figure size 432x288 with 1 Axes>"
      ]
     },
     "metadata": {
      "needs_background": "light"
     },
     "output_type": "display_data"
    }
   ],
   "source": [
    "plt.plot(np.arange(len((raw['x']))) + 20, raw['y'], label='Parabolic')\n",
    "plt.plot(np.arange(len((raw['x']))) + 20, raw50['y'], label='50')\n",
    "plt.plot(np.arange(len((raw['x']))) + 20, raw114['y'], label='114')\n",
    "plt.legend()"
   ]
  },
  {
   "cell_type": "code",
   "execution_count": null,
   "metadata": {},
   "outputs": [],
   "source": []
  }
 ],
 "metadata": {
  "kernelspec": {
   "display_name": "Python 3",
   "language": "python",
   "name": "python3"
  },
  "language_info": {
   "codemirror_mode": {
    "name": "ipython",
    "version": 3
   },
   "file_extension": ".py",
   "mimetype": "text/x-python",
   "name": "python",
   "nbconvert_exporter": "python",
   "pygments_lexer": "ipython3",
   "version": "3.8.3"
  }
 },
 "nbformat": 4,
 "nbformat_minor": 4
}
