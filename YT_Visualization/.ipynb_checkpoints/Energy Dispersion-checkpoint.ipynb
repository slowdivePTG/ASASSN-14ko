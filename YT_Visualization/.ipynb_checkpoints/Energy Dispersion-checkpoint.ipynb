{
 "cells": [
  {
   "cell_type": "code",
   "execution_count": 1,
   "metadata": {
    "ExecuteTime": {
     "end_time": "2021-01-17T14:51:55.235853Z",
     "start_time": "2021-01-17T14:51:55.212356Z"
    }
   },
   "outputs": [],
   "source": [
    "%load_ext autoreload\n",
    "%autoreload 2"
   ]
  },
  {
   "cell_type": "code",
   "execution_count": 2,
   "metadata": {
    "ExecuteTime": {
     "end_time": "2021-01-17T14:51:59.713888Z",
     "start_time": "2021-01-17T14:51:55.856575Z"
    },
    "execution": {
     "iopub.execute_input": "2020-11-23T05:03:39.979826Z",
     "iopub.status.busy": "2020-11-23T05:03:39.979579Z",
     "iopub.status.idle": "2020-11-23T05:03:42.193366Z",
     "shell.execute_reply": "2020-11-23T05:03:42.192638Z",
     "shell.execute_reply.started": "2020-11-23T05:03:39.979800Z"
    }
   },
   "outputs": [],
   "source": [
    "import yt\n",
    "import yt.units as u\n",
    "import sys\n",
    "import numpy as np\n",
    "import matplotlib.pyplot as plt"
   ]
  },
  {
   "cell_type": "code",
   "execution_count": 96,
   "metadata": {
    "ExecuteTime": {
     "end_time": "2021-01-29T00:36:52.544104Z",
     "start_time": "2021-01-29T00:36:52.457690Z"
    }
   },
   "outputs": [],
   "source": [
    "from astropy.convolution import Gaussian2DKernel\n",
    "from astropy.convolution import convolve\n",
    "from scipy.interpolate import splev, splrep, interp1d, splint"
   ]
  },
  {
   "cell_type": "markdown",
   "metadata": {},
   "source": [
    "## Load the FLASH file"
   ]
  },
  {
   "cell_type": "code",
   "execution_count": 4,
   "metadata": {
    "ExecuteTime": {
     "end_time": "2021-01-17T14:52:02.905553Z",
     "start_time": "2021-01-17T14:52:02.590941Z"
    },
    "execution": {
     "iopub.execute_input": "2020-11-23T05:03:43.375649Z",
     "iopub.status.busy": "2020-11-23T05:03:43.375270Z",
     "iopub.status.idle": "2020-11-23T05:03:43.522883Z",
     "shell.execute_reply": "2020-11-23T05:03:43.521094Z",
     "shell.execute_reply.started": "2020-11-23T05:03:43.375603Z"
    }
   },
   "outputs": [
    {
     "name": "stderr",
     "output_type": "stream",
     "text": [
      "yt : [INFO     ] 2021-01-17 22:52:02,863 Parameters: current_time              = 189076.38\n",
      "yt : [INFO     ] 2021-01-17 22:52:02,864 Parameters: domain_dimensions         = [8 8 8]\n",
      "yt : [INFO     ] 2021-01-17 22:52:02,871 Parameters: domain_left_edge          = [0. 0. 0.]\n",
      "yt : [INFO     ] 2021-01-17 22:52:02,873 Parameters: domain_right_edge         = [7.240177e+13 7.240177e+13 3.620088e+13]\n",
      "yt : [INFO     ] 2021-01-17 22:52:02,875 Parameters: cosmological_simulation   = 0.0\n"
     ]
    },
    {
     "data": {
      "text/plain": [
       "multitidal_hdf5_plt_cnt_0100"
      ]
     },
     "execution_count": 4,
     "metadata": {},
     "output_type": "execute_result"
    }
   ],
   "source": [
    "ds = yt.load(\"../../TDE_plot/multitidal_hdf5_plt_cnt_0100\")\n",
    "ds"
   ]
  },
  {
   "cell_type": "code",
   "execution_count": 5,
   "metadata": {
    "ExecuteTime": {
     "end_time": "2021-01-17T14:53:03.739634Z",
     "start_time": "2021-01-17T14:53:01.620130Z"
    }
   },
   "outputs": [],
   "source": [
    "edata = np.loadtxt('../../TDE_plot/m0.8_p17_b0.6_P110/extras.dat',\n",
    "                   dtype='float64')\n",
    "G = u.gravitational_constant\n",
    "gmpt = G * edata[6] * u.g\n",
    "\n",
    "odata = np.loadtxt('../../TDE_plot/m0.8_p17_b0.6_P110/pruned_sinks_evol.dat',\n",
    "                   dtype='float64')\n",
    "\n",
    "if odata[0, 14] > odata[1, 14]:\n",
    "    part_tag_pt = odata[0, 0]\n",
    "else:\n",
    "    part_tag_pt = odata[1, 0]\n",
    "odata_pt = odata[np.where(odata[:, 0] == part_tag_pt)[0]]\n",
    "odata_ob = odata[np.where(odata[:, 0] != part_tag_pt)[0]]\n",
    "\n",
    "ptvec = odata_pt[:, 2:8]\n",
    "obvec = odata_ob[:, 2:8]\n",
    "boundvec = obvec\n",
    "time = odata_pt[:, 1]\n",
    "tindex = abs(time - ds.current_time.v).argmin()\n",
    "\n",
    "\n",
    "def _bhbound(field, data):\n",
    "    pos = np.zeros(data['x'].shape, dtype='float64')\n",
    "    vel2 = pos.copy()\n",
    "    for i, ax in enumerate(['x', 'y', 'z']):\n",
    "        pos += (data[ax] - ptvec[tindex, i] * u.cm)**2.\n",
    "    for i, ax in enumerate(['velx', 'vely', 'velz']):\n",
    "        vel2 += (data[ax] - ptvec[tindex, i + 3] * u.cm / u.s)**2.\n",
    "    pot = -gmpt / np.sqrt(pos) + 0.5 * vel2\n",
    "    return (pot)\n",
    "\n",
    "def _tfallback(field, data):\n",
    "    pot = data['bhbound']\n",
    "    return (gmpt * np.pi / np.sqrt(2) / (-pot)**(3/2))\n",
    "\n",
    "\n",
    "'''def _selfbound(field, data):\n",
    "    vel2 = np.zeros(data['x'].shape, dtype='float64')\n",
    "    V = [data[\"velx\"], data[\"vely\"], data[\"velz\"]]\n",
    "    for i, ax in enumerate(['velx', 'vely', 'velz']):\n",
    "        vel2 += (data[ax] - boundvec[tindex, i + 3] * u.cm / u.s)**2.\n",
    "\n",
    "    pot = 0.5 * data['gpot'] + 0.5 * vel2\n",
    "    return (pot)'''\n",
    "\n",
    "\n",
    "yt.add_field((\"gas\", \"bhbound\"),\n",
    "             function=_bhbound,\n",
    "             units=\"erg/g\",\n",
    "             take_log=False,\n",
    "             force_override=True,\n",
    "             sampling_type=\"cell\")\n",
    "\n",
    "'''yt.add_field((\"gas\", \"selfbound\"),\n",
    "             function=_selfbound,\n",
    "             units=\"erg/g\",\n",
    "             take_log=False,\n",
    "             force_override=True,\n",
    "             sampling_type=\"cell\")'''\n",
    "\n",
    "yt.add_field((\"gas\", \"tfallback\"),\n",
    "             function=_tfallback,\n",
    "             units=\"day\",\n",
    "             take_log=False,\n",
    "             force_override=True,\n",
    "             sampling_type=\"cell\")"
   ]
  },
  {
   "cell_type": "code",
   "execution_count": 6,
   "metadata": {
    "ExecuteTime": {
     "end_time": "2021-01-17T14:53:08.450062Z",
     "start_time": "2021-01-17T14:53:08.244286Z"
    }
   },
   "outputs": [
    {
     "name": "stderr",
     "output_type": "stream",
     "text": [
      "yt : [INFO     ] 2021-01-17 22:53:08,427 Parameters: current_time              = 189076.38\n",
      "yt : [INFO     ] 2021-01-17 22:53:08,430 Parameters: domain_dimensions         = [8 8 8]\n",
      "yt : [INFO     ] 2021-01-17 22:53:08,432 Parameters: domain_left_edge          = [0. 0. 0.]\n",
      "yt : [INFO     ] 2021-01-17 22:53:08,436 Parameters: domain_right_edge         = [7.240177e+13 7.240177e+13 3.620088e+13]\n",
      "yt : [INFO     ] 2021-01-17 22:53:08,442 Parameters: cosmological_simulation   = 0.0\n"
     ]
    }
   ],
   "source": [
    "ds = yt.load(\"../../TDE_plot/multitidal_hdf5_plt_cnt_0100\")"
   ]
  },
  {
   "cell_type": "code",
   "execution_count": 7,
   "metadata": {
    "ExecuteTime": {
     "end_time": "2021-01-17T14:53:12.137262Z",
     "start_time": "2021-01-17T14:53:12.076535Z"
    }
   },
   "outputs": [],
   "source": [
    "# Rotate image/mask\n",
    "\n",
    "\n",
    "def rotate_image(image, angle, method='spline', order=5, reshape=False, cval=0.0):\n",
    "    '''Rotate the image of Stack object.\n",
    "    Parameters:\n",
    "        angle (float): rotation angle in radian, counterclockwise.\n",
    "        method (str): interpolation method. Use 'lanczos', 'spline', 'cubic', \n",
    "            'bicubic', 'nearest' or 'bilinear'.\n",
    "        order (int): the order of spline interpolation (within 0-5) or Lanczos interpolation (>0).\n",
    "        reshape (bool): if True, the output shape is adapted so that the rorated image \n",
    "            is contained completely in the output array.\n",
    "        cval (scalar): value to fill the edges. Default is NaN.\n",
    "    Returns:\n",
    "        rotate_image: ndarray.\n",
    "    '''\n",
    "    if method == 'lanczos':\n",
    "        try:\n",
    "            from galsim import degrees, Angle\n",
    "            from galsim.interpolant import Lanczos\n",
    "            from galsim import Image, InterpolatedImage\n",
    "            from galsim.fitswcs import AstropyWCS\n",
    "        except:\n",
    "            raise ImportError(\n",
    "                '# Import `galsim` failed! Please check if `galsim` is installed!')\n",
    "        # Begin rotation\n",
    "        assert (order > 0) and isinstance(order, int), 'order of ' + \\\n",
    "            method + ' must be positive interger.'\n",
    "        pixel_scale = 1\n",
    "        galimg = InterpolatedImage(Image(image, dtype=float),\n",
    "                                   scale=pixel_scale, x_interpolant=Lanczos(order))\n",
    "        galimg = galimg.rotate(Angle(angle, unit=degrees))\n",
    "        ny, nx = image.shape\n",
    "        result = galimg.drawImage(scale=pixel_scale, nx=nx, ny=ny)\n",
    "        return result.array\n",
    "    elif method == 'spline':\n",
    "        from scipy.ndimage.interpolation import rotate as rt\n",
    "        assert 0 < order <= 5 and isinstance(\n",
    "            order, int), 'order of ' + method + ' must be within 0-5.'\n",
    "        result = rt(image, -angle, order=order, mode='constant',\n",
    "                    cval=cval, reshape=reshape)\n",
    "        return result\n",
    "    elif method in ['bicubic', 'nearest', 'cubic', 'bilinear']:\n",
    "        '''raise Warning(\n",
    "            \"Cautious! Don't use ['bicubic', 'nearest', 'cubic', 'bilinear'] methods! They don't conserve the total flux!\")'''\n",
    "        try:\n",
    "            from scipy.misc import imrotate\n",
    "        except:\n",
    "            raise ImportError(\n",
    "                '# Import `scipy.misc.imrotate` failed! This function may no longer be included in scipy!')\n",
    "        result = imrotate(image, angle, interp=method)\n",
    "        return result\n",
    "    else:\n",
    "        raise ValueError(\"# Not supported interpolation method. Use 'lanczos', 'spline', 'cubic', \\\n",
    "                            'bicubic', 'nearest', 'bilinear'.\")\n",
    "\n"
   ]
  },
  {
   "cell_type": "code",
   "execution_count": 8,
   "metadata": {
    "ExecuteTime": {
     "end_time": "2021-01-17T14:53:20.040443Z",
     "start_time": "2021-01-17T14:53:14.200537Z"
    }
   },
   "outputs": [],
   "source": [
    "da = ds.all_data()\n",
    "angle = -40"
   ]
  },
  {
   "cell_type": "code",
   "execution_count": 35,
   "metadata": {
    "ExecuteTime": {
     "end_time": "2021-01-17T15:22:58.178252Z",
     "start_time": "2021-01-17T15:22:47.021730Z"
    }
   },
   "outputs": [
    {
     "name": "stderr",
     "output_type": "stream",
     "text": [
      "yt : [INFO     ] 2021-01-17 23:22:49,317 Projection completed\n",
      "yt : [INFO     ] 2021-01-17 23:22:49,318 xlim = 0.000000 72401770000000.000000\n",
      "yt : [INFO     ] 2021-01-17 23:22:49,320 ylim = 0.000000 72401770000000.000000\n",
      "yt : [INFO     ] 2021-01-17 23:22:49,323 xlim = 0.000000 72401770000000.000000\n",
      "yt : [INFO     ] 2021-01-17 23:22:49,325 ylim = 0.000000 72401770000000.000000\n",
      "yt : [INFO     ] 2021-01-17 23:22:49,328 Making a fixed resolution buffer of (('flash', 'dens')) 800 by 800\n",
      "yt : [INFO     ] 2021-01-17 23:22:49,632 Making a fixed resolution buffer of (dens) 5000 by 5000\n"
     ]
    }
   ],
   "source": [
    "N = 5000\n",
    "width = 300\n",
    "da = ds.all_data()\n",
    "proj_tot = yt.ProjectionPlot(ds, \n",
    "                             'z', \n",
    "                             'dens', \n",
    "                             method='sum',\n",
    "                             data_source=da).data_source.to_frb((width, 'Rsun'), N)\n",
    "proj_lgdens_tot = np.log10(np.array(proj_tot['dens']))\n",
    "kernel = Gaussian2DKernel(x_stddev=2)\n",
    "proj_dens_tot_blur = 10**convolve(proj_lgdens_tot, kernel)"
   ]
  },
  {
   "cell_type": "code",
   "execution_count": 51,
   "metadata": {
    "ExecuteTime": {
     "end_time": "2021-01-17T15:41:31.848467Z",
     "start_time": "2021-01-17T15:40:20.096578Z"
    }
   },
   "outputs": [
    {
     "name": "stdout",
     "output_type": "stream",
     "text": [
      "5.205972300410691e-06 1.612019680797484e+33 g 0.9960011540325304 dimensionless\n"
     ]
    }
   ],
   "source": [
    "bins = np.logspace(np.log10(da['dens'].max()) - 1, np.log10(da['dens'].min()) + 4, 1000)\n",
    "Mtot = da['cell_mass'].sum()\n",
    "for b in bins:\n",
    "    cut = da.include_above('dens', b)\n",
    "    M = cut['cell_mass'].sum()\n",
    "    if M >= 0.996 * Mtot:\n",
    "        region = da.include_above('dens', b)\n",
    "        print(b, M, M/Mtot)\n",
    "        break"
   ]
  },
  {
   "cell_type": "code",
   "execution_count": 52,
   "metadata": {
    "ExecuteTime": {
     "end_time": "2021-01-17T15:41:45.142778Z",
     "start_time": "2021-01-17T15:41:31.872887Z"
    }
   },
   "outputs": [
    {
     "name": "stderr",
     "output_type": "stream",
     "text": [
      "yt : [INFO     ] 2021-01-17 23:41:43,636 Projection completed\n",
      "yt : [INFO     ] 2021-01-17 23:41:43,640 xlim = 0.000000 72401770000000.000000\n",
      "yt : [INFO     ] 2021-01-17 23:41:43,642 ylim = 0.000000 72401770000000.000000\n",
      "yt : [INFO     ] 2021-01-17 23:41:43,645 xlim = 0.000000 72401770000000.000000\n",
      "yt : [INFO     ] 2021-01-17 23:41:43,654 ylim = 0.000000 72401770000000.000000\n",
      "yt : [INFO     ] 2021-01-17 23:41:43,766 Making a fixed resolution buffer of (('gas', 'bhbound')) 800 by 800\n",
      "yt : [INFO     ] 2021-01-17 23:41:44,055 Making a fixed resolution buffer of (bhbound) 5000 by 5000\n"
     ]
    }
   ],
   "source": [
    "proj_tot = yt.ProjectionPlot(ds, \n",
    "                             'z', \n",
    "                             'bhbound', \n",
    "                             data_source=da, \n",
    "                             weight_field='dens').data_source.to_frb((width, 'Rsun'), N)\n",
    "proj_bhbound_tot = np.array(proj_tot['bhbound'])\n",
    "\n",
    "proj_bhbound_blur = proj_bhbound_tot.copy()\n",
    "proj_bhbound_blur[proj_dens_tot_blur < b] = -1e25"
   ]
  },
  {
   "cell_type": "code",
   "execution_count": 53,
   "metadata": {
    "ExecuteTime": {
     "end_time": "2021-01-17T15:42:23.166082Z",
     "start_time": "2021-01-17T15:41:45.146513Z"
    }
   },
   "outputs": [
    {
     "data": {
      "image/png": "[encoded data removed]",
      "text/plain": [
       "<Figure size 792x720 with 2 Axes>"
      ]
     },
     "metadata": {
      "needs_background": "light"
     },
     "output_type": "display_data"
    }
   ],
   "source": [
    "Max = proj_bhbound_blur[proj_bhbound_blur > -1e25].max()\n",
    "Min = proj_bhbound_blur[proj_bhbound_blur > -1e25].min()\n",
    "\n",
    "proj_bhbound_rot_blur = rotate_image(proj_bhbound_blur, angle, method='spline', order=5)\n",
    "proj_bhbound_tot_rot = rotate_image(proj_bhbound_tot, angle, method='spline', order=5)\n",
    "proj_bhbound_tot_rot[proj_bhbound_rot_blur > Max] = np.nan\n",
    "proj_bhbound_tot_rot[proj_bhbound_rot_blur < Min] = np.nan\n",
    "plt.figure(figsize=(11, 10))\n",
    "for i in range(N):\n",
    "    for j in range(N):\n",
    "        if (i-N/2)**2+(j-N/2)**2 >= N**2//4:\n",
    "            proj_bhbound_tot_rot[i][j] = np.nan\n",
    "\n",
    "plt.imshow(proj_bhbound_tot_rot, origin='lower', cmap='jet', extent=[-width//2, width//2, -width//2, width//2])\n",
    "plt.axvline(color='k', linewidth=1, linestyle=':')\n",
    "plt.xlabel(r'$R_\\odot$', fontsize=20)\n",
    "plt.colorbar()\n",
    "#plt.clim([-1, 1])\n",
    "#plt.xlim([4800, 5200])\n",
    "#plt.ylim([4800, 5200])\n",
    "plt.show()"
   ]
  },
  {
   "cell_type": "code",
   "execution_count": 93,
   "metadata": {
    "ExecuteTime": {
     "end_time": "2021-01-29T00:31:59.682932Z",
     "start_time": "2021-01-29T00:31:59.599302Z"
    }
   },
   "outputs": [],
   "source": [
    "raw_0698, raw50_0698, raw114_0698 = np.load('m1.0_p10_b0.6_98.npz'), np.load(\n",
    "    'm1.0_p10_b0.6_P50_98.npz'), np.load('m1.0_p10_b0.6_P110_98.npz')\n",
    "raw_0699, raw50_0699, raw114_0699 = np.load('m1.0_p10_b0.6_99.npz'), np.load(\n",
    "    'm1.0_p10_b0.6_P50_99.npz'), np.load('m1.0_p10_b0.6_P110_99.npz')\n",
    "raw_0898, raw50_0898, raw114_0898 = np.load('m1.0_p10_b0.8_98.npz'), np.load(\n",
    "    'm1.0_p10_b0.8_P50_98.npz'), np.load('m1.0_p10_b0.8_P110_98.npz')\n",
    "raw_0899, raw50_0899, raw114_0899 = np.load('m1.0_p10_b0.8_99.npz'), np.load(\n",
    "    'm1.0_p10_b0.8_P50_99.npz'), np.load('m1.0_p10_b0.8_P110_99.npz')\n",
    "raw_198, raw50_198, raw114_198 = np.load('m1.0_p10_b1.0_98.npz'), np.load(\n",
    "    'm1.0_p10_b1.0_P50_98.npz'), np.load('m1.0_p10_b1.0_P110_98.npz')\n",
    "raw_199, raw50_199, raw114_199 = np.load('m1.0_p10_b1.0_99.npz'), np.load(\n",
    "    'm1.0_p10_b1.0_P50_99.npz'), np.load('m1.0_p10_b1.0_P110_99.npz')"
   ]
  },
  {
   "cell_type": "code",
   "execution_count": 103,
   "metadata": {
    "ExecuteTime": {
     "end_time": "2021-01-29T00:40:50.210744Z",
     "start_time": "2021-01-29T00:40:50.156128Z"
    }
   },
   "outputs": [],
   "source": [
    "def smooth_evol(raw, ax, label):\n",
    "    x = (raw['x'] * u.cm).in_units('Rsun').v\n",
    "    y = raw['y']\n",
    "    print(x, y)\n",
    "    spl = splrep(x, y, s=0)\n",
    "    x2 = np.logspace(np.log10(x.min()), np.log10(x.max()), 1000)\n",
    "    y2 = splev(x2, spl)\n",
    "    ax.plot(x2, y2, label=label)"
   ]
  },
  {
   "cell_type": "code",
   "execution_count": 105,
   "metadata": {
    "ExecuteTime": {
     "end_time": "2021-01-29T00:41:33.181711Z",
     "start_time": "2021-01-29T00:41:32.091917Z"
    }
   },
   "outputs": [
    {
     "data": {
      "image/png": "[encoded data removed]",
      "text/plain": [
       "<Figure size 720x360 with 2 Axes>"
      ]
     },
     "metadata": {
      "needs_background": "light"
     },
     "output_type": "display_data"
    }
   ],
   "source": [
    "f, ax = plt.subplots(1, 2, figsize=(10, 5), sharey='row')\n",
    "ax[0].scatter((raw_0698['x'] * u.cm).in_units('Rsun'),\n",
    "              raw_0698['y'],\n",
    "              label='Parabolic',\n",
    "              s=2)\n",
    "ax[0].scatter((raw50_0698['x'] * u.cm).in_units('Rsun'),\n",
    "              raw50_0698['y'],\n",
    "              label='50',\n",
    "              s=2)\n",
    "ax[0].scatter((raw114_0698['x'] * u.cm).in_units('Rsun'),\n",
    "              raw114_0698['y'],\n",
    "              label='114',\n",
    "              s=2)\n",
    "ax[0].set_xscale('log')\n",
    "ax[1].scatter((raw_0699['x'] * u.cm).in_units('Rsun'),\n",
    "              raw_0699['y'],\n",
    "              label='Parabolic',\n",
    "              s=2)\n",
    "ax[1].scatter((raw50_0699['x'] * u.cm).in_units('Rsun'),\n",
    "              raw50_0699['y'],\n",
    "              label='50',\n",
    "              s=2)\n",
    "ax[1].scatter((raw114_0699['x'] * u.cm).in_units('Rsun'),\n",
    "              raw114_0699['y'],\n",
    "              label='114',\n",
    "              s=2)\n",
    "ax[1].set_xscale('log')\n",
    "#plt.yscale('log')\n",
    "ax[0].legend()\n",
    "ax[1].legend()\n",
    "ax[0].set_xlabel(r'$r\\ (R_\\odot)$', fontsize=20)\n",
    "ax[1].set_xlabel(r'$r\\ (R_\\odot)$', fontsize=20)\n",
    "ax[0].set_ylabel(r'$\\Delta E/\\delta E$', fontsize=20)\n",
    "ax[0].set_title(r'$98\\%$ of mass', fontsize=20)\n",
    "ax[1].set_title(r'$99\\%$ of mass', fontsize=20)\n",
    "f.tight_layout()"
   ]
  },
  {
   "cell_type": "code",
   "execution_count": 92,
   "metadata": {
    "ExecuteTime": {
     "end_time": "2021-01-29T00:29:14.161453Z",
     "start_time": "2021-01-29T00:29:13.010882Z"
    }
   },
   "outputs": [
    {
     "data": {
      "image/png": "[encoded data removed]",
      "text/plain": [
       "<Figure size 720x360 with 2 Axes>"
      ]
     },
     "metadata": {
      "needs_background": "light"
     },
     "output_type": "display_data"
    }
   ],
   "source": [
    "f, ax = plt.subplots(1, 2, figsize=(10, 5), sharey='row')\n",
    "ax[0].scatter((raw_0898['x'] * u.cm).in_units('Rsun'),\n",
    "              raw_0898['y'],\n",
    "              label='Parabolic',\n",
    "              s=2)\n",
    "ax[0].scatter((raw50_0898['x'] * u.cm).in_units('Rsun'),\n",
    "              raw50_0898['y'],\n",
    "              label='50',\n",
    "              s=2)\n",
    "ax[0].scatter((raw114_0898['x'] * u.cm).in_units('Rsun'),\n",
    "              raw114_0898['y']/0.64,\n",
    "              label='114',\n",
    "              s=2)\n",
    "ax[0].set_xscale('log')\n",
    "ax[1].scatter((raw_0899['x'] * u.cm).in_units('Rsun'),\n",
    "              raw_0899['y'],\n",
    "              label='Parabolic',\n",
    "              s=2)\n",
    "ax[1].scatter((raw50_0899['x'] * u.cm).in_units('Rsun'),\n",
    "              raw50_0899['y'],\n",
    "              label='50',\n",
    "              s=2)\n",
    "ax[1].scatter((raw114_0899['x'] * u.cm).in_units('Rsun'),\n",
    "              raw114_0899['y']/0.64,\n",
    "              label='114',\n",
    "              s=2)\n",
    "ax[1].set_xscale('log')\n",
    "#plt.yscale('log')\n",
    "ax[0].legend()\n",
    "ax[1].legend()\n",
    "ax[0].set_xlabel(r'$r\\ (R_\\odot)$', fontsize=20)\n",
    "ax[1].set_xlabel(r'$r\\ (R_\\odot)$', fontsize=20)\n",
    "ax[0].set_ylabel(r'$\\Delta E/\\delta E$', fontsize=20)\n",
    "ax[0].set_title(r'$98\\%$ of mass', fontsize=20)\n",
    "ax[1].set_title(r'$99\\%$ of mass', fontsize=20)\n",
    "f.tight_layout()"
   ]
  },
  {
   "cell_type": "code",
   "execution_count": 87,
   "metadata": {
    "ExecuteTime": {
     "end_time": "2021-01-29T00:25:16.246904Z",
     "start_time": "2021-01-29T00:25:14.688528Z"
    }
   },
   "outputs": [
    {
     "data": {
      "image/png": "[encoded data removed]",
      "text/plain": [
       "<Figure size 720x360 with 2 Axes>"
      ]
     },
     "metadata": {
      "needs_background": "light"
     },
     "output_type": "display_data"
    }
   ],
   "source": [
    "f, ax = plt.subplots(1, 2, figsize=(10, 5), sharey='row')\n",
    "ax[0].scatter((raw_198['x'] * u.cm).in_units('Rsun'),\n",
    "              raw_198['y'],\n",
    "              label='Parabolic',\n",
    "              s=2)\n",
    "ax[0].scatter((raw50_198['x'] * u.cm).in_units('Rsun'),\n",
    "              raw50_198['y'],\n",
    "              label='50',\n",
    "              s=2)\n",
    "ax[0].scatter((raw114_198['x'] * u.cm).in_units('Rsun'),\n",
    "              raw114_198['y'],\n",
    "              label='114',\n",
    "              s=2)\n",
    "ax[0].set_xscale('log')\n",
    "ax[1].scatter((raw_199['x'] * u.cm).in_units('Rsun'),\n",
    "              raw_199['y'],\n",
    "              label='Parabolic',\n",
    "              s=2)\n",
    "ax[1].scatter((raw50_199['x'] * u.cm).in_units('Rsun'),\n",
    "              raw50_199['y'],\n",
    "              label='50',\n",
    "              s=2)\n",
    "ax[1].scatter((raw114_199['x'] * u.cm).in_units('Rsun'),\n",
    "              raw114_199['y'],\n",
    "              label='114',\n",
    "              s=2)\n",
    "ax[1].set_xscale('log')\n",
    "#plt.yscale('log')\n",
    "ax[0].legend()\n",
    "ax[1].legend()\n",
    "ax[0].set_xlabel(r'$r\\ (R_\\odot)$', fontsize=20)\n",
    "ax[1].set_xlabel(r'$r\\ (R_\\odot)$', fontsize=20)\n",
    "ax[0].set_ylabel(r'$\\Delta E/\\delta E$', fontsize=20)\n",
    "ax[0].set_title(r'$98\\%$ of mass', fontsize=20)\n",
    "ax[1].set_title(r'$99\\%$ of mass', fontsize=20)\n",
    "f.tight_layout()"
   ]
  },
  {
   "cell_type": "markdown",
   "metadata": {},
   "source": [
    "## Time Integral"
   ]
  },
  {
   "cell_type": "markdown",
   "metadata": {},
   "source": [
    "$$\n",
    "\\begin{align*}\n",
    "\\Delta I&=\\int_{t(r_\\text{min})}^{t(r_\\text{max})}\\left[\\frac{GM}{(r(t,e)-R_*)^2}-\\frac{GM}{(r(t,e)+R_*)^2}\\right]\\text dt\\\\\n",
    "&\\simeq GM\\int_{t(r_\\text{min})}^{t(r_\\text{max})}r^{-2}(t,e)\\cdot \\frac{4R_*}{r(t,e)}\\text dt\\\\\n",
    "&=4GMR_*\\int_{t(r_\\text{min})}^{t(r_\\text{max})}r^{-3}(t,e)\\text dt\n",
    "\\end{align*}\n",
    "$$\n",
    "\n",
    "In a Keplerian orbit, the radial distance $r$ is related to the eccentric anomaly $E$\n",
    "\n",
    "$$\n",
    "r=a(1-e\\cos E)\n",
    "$$\n",
    "\n",
    "where $E$ satisfies\n",
    "\n",
    "$$\n",
    "E - e\\sin E=\\frac{2\\pi (t-t_0)}{P}\n",
    "$$\n",
    "\n",
    "Now we take\n",
    "\n",
    "$$\n",
    "t_0=t(r_\\text{min})=0,\\quad t(r_\\text{max})=\\frac P2\n",
    "$$\n",
    "\n",
    "and define\n",
    "\n",
    "$$\n",
    "\\tau\\equiv\\frac tP,\\quad \\xi=\\frac ra,\\quad F(e)=(1-e)^{3/2}\\int_{0}^{1/2}\\xi^{-3}(\\tau, e)\\text d\\tau\n",
    "$$\n",
    "\n",
    "so that\n",
    "\n",
    "$$\n",
    "\\Delta I=4GMR_*Pa^{-3}\\int_{0}^{1/2}\\xi^{-3}(\\tau, e)\\text d\\tau\\equiv 8\\pi R_*\\sqrt{\\frac{GM}{r_p^3}}F(e)\n",
    "$$\n",
    "\n",
    "and\n",
    "\n",
    "$$\n",
    "E-e\\sin E=2\\pi\\tau,\\quad \\xi=1-e\\cos E\n",
    "$$"
   ]
  },
  {
   "cell_type": "code",
   "execution_count": 217,
   "metadata": {
    "ExecuteTime": {
     "end_time": "2021-02-02T14:33:13.752607Z",
     "start_time": "2021-02-02T14:33:12.480688Z"
    }
   },
   "outputs": [],
   "source": [
    "from scipy.optimize import fsolve\n",
    "from scipy.integrate import simps, quad\n",
    "\n",
    "\n",
    "def F(e_arr, N=1000):\n",
    "    tau = np.linspace(0, 0.5, N)\n",
    "    res = []\n",
    "    err = []\n",
    "    for e in e_arr:\n",
    "\n",
    "        def xi3(tau):\n",
    "            E = lambda psi: psi - e * np.sin(psi) - 2 * np.pi * tau\n",
    "            xi = 1 - e * np.cos(fsolve(E, [1]))\n",
    "            return xi**3\n",
    "\n",
    "        integral = quad(xi3, 0, 0.5)\n",
    "        res.append(integral[0])\n",
    "        err.append(integral[1])\n",
    "    return np.array(res), np.array(err)\n",
    "\n",
    "\n",
    "e_arr = np.linspace(0.95, 0.999, 100)\n",
    "res, err = F(e_arr, N=100)\n",
    "res /= res[-1]\n",
    "e_cri_1 = e_arr[res >= 0.99 * res[-1]][0]\n",
    "e_cri_5 = e_arr[res >= 0.95 * res[-1]][0]"
   ]
  },
  {
   "cell_type": "code",
   "execution_count": 218,
   "metadata": {
    "ExecuteTime": {
     "end_time": "2021-02-02T14:33:14.621358Z",
     "start_time": "2021-02-02T14:33:13.758995Z"
    }
   },
   "outputs": [
    {
     "data": {
      "image/png": "[encoded data removed]",
      "text/plain": [
       "<Figure size 864x432 with 2 Axes>"
      ]
     },
     "metadata": {
      "needs_background": "light"
     },
     "output_type": "display_data"
    }
   ],
   "source": [
    "rT = u.Rsun * (7.7e7)**(1 / 3)\n",
    "P0 = 2 * np.pi * np.sqrt(rT**3 / u.gravitational_constant / 7.7e7 / u.Msun)\n",
    "def P(e):\n",
    "    return (P0.in_units('day').v * (1-e)**(-3 / 2))\n",
    "\n",
    "f, ax = plt.subplots(1, 2, figsize=(12, 6), sharey=True)\n",
    "ax[0].errorbar(e_arr, res, yerr=err)\n",
    "ax[0].axvline(e_cri_1, color='k', linestyle=':')\n",
    "ax[0].axvline(e_cri_5, color='k', linestyle='--')\n",
    "ax[0].set_xlabel('$e$', fontsize=20)\n",
    "ax[1].errorbar(P(e_arr), res, yerr=err)\n",
    "ax[1].axvline(P(e_cri_1), color='k', linestyle=':')\n",
    "ax[1].axvline(P(e_cri_5), color='k', linestyle='--')\n",
    "ax[1].set_xlabel('$P$ [day]', fontsize=20)\n",
    "ax[1].set_xscale('log')\n",
    "f.tight_layout()"
   ]
  },
  {
   "cell_type": "code",
   "execution_count": null,
   "metadata": {},
   "outputs": [],
   "source": []
  }
 ],
 "metadata": {
  "kernelspec": {
   "display_name": "Python 3",
   "language": "python",
   "name": "python3"
  },
  "language_info": {
   "codemirror_mode": {
    "name": "ipython",
    "version": 3
   },
   "file_extension": ".py",
   "mimetype": "text/x-python",
   "name": "python",
   "nbconvert_exporter": "python",
   "pygments_lexer": "ipython3",
   "version": "3.8.3"
  }
 },
 "nbformat": 4,
 "nbformat_minor": 4
}
