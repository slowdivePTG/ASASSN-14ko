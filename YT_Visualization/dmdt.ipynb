{
 "cells": [
  {
   "cell_type": "code",
   "execution_count": 9,
   "metadata": {
    "ExecuteTime": {
     "end_time": "2020-12-01T12:20:04.068577Z",
     "start_time": "2020-12-01T12:20:03.827774Z"
    }
   },
   "outputs": [],
   "source": [
    "import numpy as np\n",
    "import yt\n",
    "import yt.units as u\n",
    "import matplotlib.pyplot as plt"
   ]
  },
  {
   "cell_type": "code",
   "execution_count": 17,
   "metadata": {
    "ExecuteTime": {
     "end_time": "2020-12-01T12:23:23.738218Z",
     "start_time": "2020-12-01T12:23:23.170612Z"
    }
   },
   "outputs": [],
   "source": [
    "from scipy.ndimage.filters import gaussian_filter\n",
    "from scipy.integrate import simps\n",
    "from scipy.integrate import cumtrapz\n",
    "from scipy import interpolate\n",
    "from scipy import stats\n",
    "import os\n",
    "import argparse, sys"
   ]
  },
  {
   "cell_type": "code",
   "execution_count": 3,
   "metadata": {
    "ExecuteTime": {
     "end_time": "2020-12-01T12:17:46.825185Z",
     "start_time": "2020-12-01T12:17:46.797163Z"
    }
   },
   "outputs": [],
   "source": [
    "raw = np.loadtxt('../../TDE_plot/b10000_ev_bhbound_histogram_multitidal_hdf5_chk_0030.dat')"
   ]
  },
  {
   "cell_type": "code",
   "execution_count": 5,
   "metadata": {
    "ExecuteTime": {
     "end_time": "2020-12-01T12:18:11.559248Z",
     "start_time": "2020-12-01T12:18:11.554176Z"
    }
   },
   "outputs": [],
   "source": [
    "e, dm = raw[0], raw[1]"
   ]
  },
  {
   "cell_type": "code",
   "execution_count": 6,
   "metadata": {
    "ExecuteTime": {
     "end_time": "2020-12-01T12:19:20.015463Z",
     "start_time": "2020-12-01T12:19:20.009727Z"
    }
   },
   "outputs": [],
   "source": [
    "e, dm = e[dm != 0], dm[dm != 0]"
   ]
  },
  {
   "cell_type": "code",
   "execution_count": 19,
   "metadata": {
    "ExecuteTime": {
     "end_time": "2020-12-01T12:25:26.980430Z",
     "start_time": "2020-12-01T12:25:26.976840Z"
    }
   },
   "outputs": [],
   "source": [
    "dm_de = dm / e"
   ]
  },
  {
   "cell_type": "code",
   "execution_count": 23,
   "metadata": {
    "ExecuteTime": {
     "end_time": "2020-12-01T12:27:07.758933Z",
     "start_time": "2020-12-01T12:27:07.750665Z"
    }
   },
   "outputs": [
    {
     "name": "stderr",
     "output_type": "stream",
     "text": [
      "<ipython-input-23-35b96490c19f>:2: RuntimeWarning: invalid value encountered in log10\n",
      "  slog_dm_de = np.log10(s_dm_de)\n"
     ]
    }
   ],
   "source": [
    "s_dm_de = gaussian_filter(dm_de, 20, mode='wrap')\n",
    "slog_dm_de = np.log10(s_dm_de)"
   ]
  },
  {
   "cell_type": "code",
   "execution_count": 24,
   "metadata": {
    "ExecuteTime": {
     "end_time": "2020-12-01T12:28:13.825085Z",
     "start_time": "2020-12-01T12:28:13.818112Z"
    }
   },
   "outputs": [],
   "source": [
    "e = e - e[(-1 < e / 1e17) & (e / 1e17 < 1)][np.argmin(\n",
    "    slog_dm_de[(-1 < e / 1e17) & (e / 1e17 < 1)])]"
   ]
  },
  {
   "cell_type": "code",
   "execution_count": 34,
   "metadata": {
    "ExecuteTime": {
     "end_time": "2020-12-01T12:30:51.767836Z",
     "start_time": "2020-12-01T12:30:51.696697Z"
    }
   },
   "outputs": [],
   "source": [
    "NBINS=800\n",
    "dm_de_binned = stats.binned_statistic(e, dm_de, statistic='mean', bins=NBINS)\n",
    "dm_de_binned_std = stats.binned_statistic(e, dm_de, statistic='std', bins=NBINS)\n",
    "# try different binning rather than smoothing, trying to copy Gafton & Rosswog 2019\n",
    "bin_width = (dm_de_binned[1][1] - dm_de_binned[1][0])\n",
    "bin_centers = dm_de_binned[1][1:] - bin_width/2"
   ]
  },
  {
   "cell_type": "code",
   "execution_count": 36,
   "metadata": {
    "ExecuteTime": {
     "end_time": "2020-12-01T12:31:10.273672Z",
     "start_time": "2020-12-01T12:31:10.260603Z"
    }
   },
   "outputs": [
    {
     "name": "stderr",
     "output_type": "stream",
     "text": [
      "<ipython-input-36-ad1f74a2a1d6>:1: RuntimeWarning: divide by zero encountered in true_divide\n",
      "  sp1 = interpolate.splrep(bin_centers, dm_de_binned[0], w=1./dm_de_binned_std[0], s=100)\n"
     ]
    }
   ],
   "source": [
    "sp1 = interpolate.splrep(bin_centers, dm_de_binned[0], w=1./dm_de_binned_std[0], s=100)\n",
    "#sp1 = interpolate.splrep(bin_centers, dm_de_binned[0], s=SMOOTH) <-- doesn't seem to work\n",
    "#If the weights represent the inverse of the standard-deviation of y, then a good s value should be found \n",
    "#in the range (m-sqrt(2*m),m+sqrt(2*m)) where m is the number of datapoints in x, y, and w. \n",
    "#default : s=m-sqrt(2*m) if weights are supplied. s = 0.0 (interpolating) if no weights are supplied.\n",
    "# ^ this gives range of 760 to 840\n",
    "x2 = np.linspace(min(bin_centers), max(bin_centers), NBINS)\n",
    "y2 = interpolate.splev(x2, sp1)"
   ]
  },
  {
   "cell_type": "code",
   "execution_count": 72,
   "metadata": {
    "ExecuteTime": {
     "end_time": "2020-12-01T12:46:51.342896Z",
     "start_time": "2020-12-01T12:46:50.712447Z"
    }
   },
   "outputs": [
    {
     "data": {
      "image/png": "[encoded data removed]",
      "text/plain": [
       "<Figure size 432x288 with 1 Axes>"
      ]
     },
     "metadata": {
      "needs_background": "light"
     },
     "output_type": "display_data"
    }
   ],
   "source": [
    "M_bh = 10**7.8 * u.Msun\n",
    "G = u.gravitational_constant\n",
    "yr = u.yr\n",
    "M_sun = u.Msun\n",
    "e_bound = e[np.where(e < 0.)] * u.erg / u.gram\n",
    "t = (2. * np.pi * G * M_bh / ((2 * np.abs(e_bound))**(3. / 2))).in_units('yr')\n",
    "de_dt = (1. / 3) * ((2. * np.pi * G * M_bh)**(2. / 3)) * t**(-5. / 3)\n",
    "dm_de_bound = -s_dm_de[np.where(e < 0.)] * u.g / (u.erg / u.g)\n",
    "dm_de_bound_orig = -dm_de[np.where(e < 0.)] * u.g / (u.erg / u.g)\n",
    "mdot = (dm_de_bound * de_dt).in_units('Msun/yr')\n",
    "mdot_orig = (dm_de_bound_orig * de_dt).in_units('Msun/yr')\n",
    "\n",
    "# plot unsmoothed\n",
    "plt.scatter(t, mdot_orig)\n",
    "plt.scatter(t, mdot)\n",
    "plt.xscale('log')\n",
    "plt.yscale('log')"
   ]
  },
  {
   "cell_type": "code",
   "execution_count": null,
   "metadata": {},
   "outputs": [],
   "source": []
  }
 ],
 "metadata": {
  "kernelspec": {
   "display_name": "Python 3",
   "language": "python",
   "name": "python3"
  },
  "language_info": {
   "codemirror_mode": {
    "name": "ipython",
    "version": 3
   },
   "file_extension": ".py",
   "mimetype": "text/x-python",
   "name": "python",
   "nbconvert_exporter": "python",
   "pygments_lexer": "ipython3",
   "version": "3.8.3"
  }
 },
 "nbformat": 4,
 "nbformat_minor": 4
}
